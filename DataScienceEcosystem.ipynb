{
 "cells": [
  {
   "cell_type": "markdown",
   "id": "d4219648-94f6-43c6-9161-feb02df7ba7e",
   "metadata": {},
   "source": [
    "# Data Science Tools and Ecosystem"
   ]
  },
  {
   "cell_type": "markdown",
   "id": "dc98e890-4887-461a-89e9-411a4fb4b01c",
   "metadata": {},
   "source": [
    "In this notebook, Data Science Tools and Ecosystem are summarized."
   ]
  },
  {
   "cell_type": "markdown",
   "id": "952275a3-58d7-49b3-9b6a-7dd597a9f2fb",
   "metadata": {},
   "source": [
    "Some of the popular languages that Data Scientists use are:\r\n",
    "\r\n",
    "1. Python\r\n",
    "2. R\r\n",
    "3. SQL\r\n",
    "4. Julia\r\n",
    "5. Scala\r\n"
   ]
  },
  {
   "cell_type": "markdown",
   "id": "e7c07063-283f-4bc5-8820-960948e92283",
   "metadata": {},
   "source": [
    "Some of the commonly used libraries used by Data Scientists include:\n",
    "\n",
    "1. NumPy\n",
    "2. Pandas\n",
    "3. Scikit-learn\n",
    "4. TensorFlow\n",
    "5. Matplotlib"
   ]
  },
  {
   "cell_type": "markdown",
   "id": "1e2b9eec-6100-4fa5-9c0f-47c2f40dd327",
   "metadata": {},
   "source": [
    "| Data Science Tools          |\r\n",
    "|-----------------------------|\r\n",
    "| Jupyter Notebooks           |\r\n",
    "| RStudio                     |\r\n",
    "| Apache Zeppelin             |\r\n"
   ]
  },
  {
   "cell_type": "markdown",
   "id": "00dc906f-b653-482c-8819-4634e11d98b1",
   "metadata": {},
   "source": [
    "### Below are a few examples of evaluating arithmetic expressions in Python\n"
   ]
  },
  {
   "cell_type": "code",
   "execution_count": 17,
   "id": "9eb95612-c7f9-49dc-b123-dc9db58398e8",
   "metadata": {},
   "outputs": [
    {
     "data": {
      "text/plain": [
       "17"
      ]
     },
     "execution_count": 17,
     "metadata": {},
     "output_type": "execute_result"
    }
   ],
   "source": [
    "# This is a simple arithmetic expression to multiply then add integers\n",
    "(3 * 4) + 5\n"
   ]
  },
  {
   "cell_type": "code",
   "execution_count": 18,
   "id": "26e6a371-8b63-4dc8-8745-4d7472d5ba37",
   "metadata": {},
   "outputs": [
    {
     "data": {
      "text/plain": [
       "3.3333333333333335"
      ]
     },
     "execution_count": 18,
     "metadata": {},
     "output_type": "execute_result"
    }
   ],
   "source": [
    "# This will convert 200 minutes to hours by dividing by 60\n",
    "200 / 60\n"
   ]
  },
  {
   "cell_type": "markdown",
   "id": "7c483cc1-10a5-41c1-b917-0aeb21a58ca8",
   "metadata": {},
   "source": [
    "**Objectives:**\n",
    "\n",
    "- List popular languages for Data Science\n",
    "- Identify commonly used Data Science libraries\n",
    "- Explore open-source tools for Data Science development\n",
    "- Understand basic arithmetic expressions in Python\n",
    "- Convert units (e.g. minutes to hours) using Python\n"
   ]
  },
  {
   "cell_type": "markdown",
   "id": "7690c4fc-7257-4e83-992c-9a00c63d2353",
   "metadata": {},
   "source": [
    "## Author\r\n",
    "Nosseir Oulad Arifi Asraoue\r\n"
   ]
  }
 ],
 "metadata": {
  "kernelspec": {
   "display_name": "Python 3 (ipykernel)",
   "language": "python",
   "name": "python3"
  },
  "language_info": {
   "codemirror_mode": {
    "name": "ipython",
    "version": 3
   },
   "file_extension": ".py",
   "mimetype": "text/x-python",
   "name": "python",
   "nbconvert_exporter": "python",
   "pygments_lexer": "ipython3",
   "version": "3.12.4"
  }
 },
 "nbformat": 4,
 "nbformat_minor": 5
}
